{
 "cells": [
  {
   "cell_type": "code",
   "execution_count": null,
   "id": "0d0b584f",
   "metadata": {},
   "outputs": [],
   "source": [
    "class Node:\n",
    "    def __init__(self,value):\n",
    "        self.data = value\n",
    "        self.next = None\n",
    "\n",
    "class stack:\n",
    "    def __init__(self):\n",
    "        self.top = None\n",
    "    \n",
    "    def isempty(self):\n",
    "        return self.top == None\n",
    "\n",
    "    #Adding at top\n",
    "    def push(self,value):\n",
    "        new_node = Node(value)\n",
    "        new_node.next = self.top\n",
    "        self.top = new_node\n",
    "        \n",
    "    #Traversing\n",
    "    def traverse(self):\n",
    "        curr = self.top\n",
    "        while curr !=None:\n",
    "            print(curr.data)\n",
    "            curr = curr.next\n",
    "    "
   ]
  }
 ],
 "metadata": {
  "language_info": {
   "name": "python"
  }
 },
 "nbformat": 4,
 "nbformat_minor": 5
}
