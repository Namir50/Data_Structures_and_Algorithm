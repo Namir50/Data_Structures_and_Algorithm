{
 "cells": [
  {
   "cell_type": "code",
   "execution_count": null,
   "id": "0d0b584f",
   "metadata": {},
   "outputs": [],
   "source": [
    "class Node:\n",
    "    def __init__(self,value):\n",
    "        self.data = value\n",
    "        self.next = None\n",
    "\n",
    "class stack:\n",
    "    def __init__(self):\n",
    "        self.top = None\n",
    "    \n",
    "    def isempty(self):\n",
    "        return self.top == None\n",
    "\n",
    "\n",
    "    #Adding at top\n",
    "    def push(self,value):\n",
    "        new_node = Node(value)\n",
    "        new_node.next = self.top\n",
    "        self.top = new_node\n",
    "        \n",
    "        \n",
    "    #Getting the top item\n",
    "    def peek(self):\n",
    "        if self.top == None:\n",
    "            return 'No element'\n",
    "        return self.top.data\n",
    "    \n",
    "    \n",
    "    #Deleting top value\n",
    "    def pop(self):\n",
    "        if(self.isempty()):\n",
    "            return 'No element'\n",
    "        else:\n",
    "            self.top = self.top.next\n",
    "            \n",
    "            \n",
    "    #Traversing\n",
    "    def traverse(self):\n",
    "        curr = self.top\n",
    "        while curr !=None:\n",
    "            print(curr.data)\n",
    "            curr = curr.next\n",
    "    "
   ]
  },
  {
   "cell_type": "code",
   "execution_count": 72,
   "id": "83de84a4",
   "metadata": {},
   "outputs": [],
   "source": [
    "s = stack()"
   ]
  },
  {
   "cell_type": "code",
   "execution_count": 73,
   "id": "24ba2d06",
   "metadata": {},
   "outputs": [
    {
     "data": {
      "text/plain": [
       "True"
      ]
     },
     "execution_count": 73,
     "metadata": {},
     "output_type": "execute_result"
    }
   ],
   "source": [
    "s.isempty()"
   ]
  },
  {
   "cell_type": "code",
   "execution_count": 74,
   "id": "ef4ad457",
   "metadata": {},
   "outputs": [],
   "source": [
    "s.push(1)\n",
    "s.push(2)\n",
    "s.push(3)"
   ]
  },
  {
   "cell_type": "code",
   "execution_count": 75,
   "id": "45204e63",
   "metadata": {},
   "outputs": [
    {
     "name": "stdout",
     "output_type": "stream",
     "text": [
      "3\n",
      "2\n",
      "1\n"
     ]
    }
   ],
   "source": [
    "s.traverse()"
   ]
  },
  {
   "cell_type": "code",
   "execution_count": 76,
   "id": "fe236c8a",
   "metadata": {},
   "outputs": [
    {
     "data": {
      "text/plain": [
       "False"
      ]
     },
     "execution_count": 76,
     "metadata": {},
     "output_type": "execute_result"
    }
   ],
   "source": [
    "s.isempty()"
   ]
  },
  {
   "cell_type": "code",
   "execution_count": 77,
   "id": "75e2aaf5",
   "metadata": {},
   "outputs": [
    {
     "data": {
      "text/plain": [
       "3"
      ]
     },
     "execution_count": 77,
     "metadata": {},
     "output_type": "execute_result"
    }
   ],
   "source": [
    "s.peek()"
   ]
  },
  {
   "cell_type": "code",
   "execution_count": 78,
   "id": "f709d99c",
   "metadata": {},
   "outputs": [],
   "source": [
    "s.pop()"
   ]
  },
  {
   "cell_type": "code",
   "execution_count": 79,
   "id": "4b084439",
   "metadata": {},
   "outputs": [
    {
     "name": "stdout",
     "output_type": "stream",
     "text": [
      "2\n",
      "1\n"
     ]
    }
   ],
   "source": [
    "s.traverse()"
   ]
  },
  {
   "cell_type": "code",
   "execution_count": 80,
   "id": "674fa6d4",
   "metadata": {},
   "outputs": [],
   "source": [
    "def reverse_string(text):\n",
    "    s = []\n",
    "    \n",
    "    for i in text:\n",
    "        s.append(i)\n",
    "\n",
    "    rev = ''\n",
    "    while s:\n",
    "        rev+=s.pop()\n",
    "    return rev"
   ]
  },
  {
   "cell_type": "code",
   "execution_count": 81,
   "id": "b45c1bc6",
   "metadata": {},
   "outputs": [
    {
     "data": {
      "text/plain": [
       "'olleh'"
      ]
     },
     "execution_count": 81,
     "metadata": {},
     "output_type": "execute_result"
    }
   ],
   "source": [
    "reverse_string('hello')"
   ]
  },
  {
   "cell_type": "code",
   "execution_count": null,
   "id": "aa9cb83a",
   "metadata": {},
   "outputs": [],
   "source": [
    "def undo_redo(text,operation):\n",
    "    s = stack()\n",
    "    x = stack()\n",
    "    \n",
    "    for i in text:\n",
    "        s.push(i)\n",
    "\n",
    "    for i in range(len(operation)):\n",
    "        if operation[i] == 'u':\n",
    "            x.push(s.pop())\n",
    "        else:\n",
    "            s.push(x.pop())   \n",
    "        \n",
    "    string = ''\n",
    "    while (not s.isempty()):\n",
    "        string+=s.pop()\n",
    "        \n",
    "    print(string)"
   ]
  },
  {
   "cell_type": "markdown",
   "id": "ee37d6f7",
   "metadata": {},
   "source": [
    "Stack using Array"
   ]
  },
  {
   "cell_type": "code",
   "execution_count": 109,
   "id": "b8bf7609",
   "metadata": {},
   "outputs": [],
   "source": [
    "class Stack:\n",
    "    def __init__(self):\n",
    "        self.stack = []\n",
    "    \n",
    "    def push(self,value):\n",
    "        self.stack.append(value)\n",
    "    \n",
    "    def isempty(self):\n",
    "        if len(self.stack) == 0:\n",
    "            return True\n",
    "        else:\n",
    "            return False\n",
    "    \n",
    "    def pop(self):\n",
    "        if not self.isempty():\n",
    "            self.stack.pop()\n",
    "        else:\n",
    "            return 'Stack is empty'\n",
    "    \n",
    "    def peek(self):\n",
    "        return self.stack[-1]\n",
    "    \n",
    "    def print(self):\n",
    "        x = ' '\n",
    "        for i in range(len(self.stack)):\n",
    "            x+= str(self.stack[i]) + ' '\n",
    "        return x"
   ]
  },
  {
   "cell_type": "code",
   "execution_count": 110,
   "id": "3506da4d",
   "metadata": {},
   "outputs": [],
   "source": [
    "s = Stack()"
   ]
  },
  {
   "cell_type": "code",
   "execution_count": 111,
   "id": "2bba4849",
   "metadata": {},
   "outputs": [],
   "source": [
    "s.push(1)\n",
    "s.push(2)\n",
    "s.push(3)"
   ]
  },
  {
   "cell_type": "code",
   "execution_count": 112,
   "id": "93e8d1e2",
   "metadata": {},
   "outputs": [
    {
     "data": {
      "text/plain": [
       "False"
      ]
     },
     "execution_count": 112,
     "metadata": {},
     "output_type": "execute_result"
    }
   ],
   "source": [
    "s.isempty()"
   ]
  },
  {
   "cell_type": "code",
   "execution_count": 113,
   "id": "2b231089",
   "metadata": {},
   "outputs": [
    {
     "data": {
      "text/plain": [
       "' 1 2 3 '"
      ]
     },
     "execution_count": 113,
     "metadata": {},
     "output_type": "execute_result"
    }
   ],
   "source": [
    "s.print()"
   ]
  }
 ],
 "metadata": {
  "kernelspec": {
   "display_name": "Python 3",
   "language": "python",
   "name": "python3"
  },
  "language_info": {
   "codemirror_mode": {
    "name": "ipython",
    "version": 3
   },
   "file_extension": ".py",
   "mimetype": "text/x-python",
   "name": "python",
   "nbconvert_exporter": "python",
   "pygments_lexer": "ipython3",
   "version": "3.11.9"
  }
 },
 "nbformat": 4,
 "nbformat_minor": 5
}
