{
 "cells": [
  {
   "cell_type": "markdown",
   "id": "3d38d063",
   "metadata": {},
   "source": [
    "Linked List is suitable for write operations"
   ]
  },
  {
   "cell_type": "markdown",
   "id": "650917a2",
   "metadata": {},
   "source": [
    "Creating individual nodes and connecting them manually"
   ]
  },
  {
   "cell_type": "code",
   "execution_count": 1,
   "id": "d95173cd",
   "metadata": {},
   "outputs": [],
   "source": [
    "class Node:\n",
    "    def __init__(self,value):\n",
    "        self.data = value\n",
    "        self.next = None"
   ]
  },
  {
   "cell_type": "code",
   "execution_count": 7,
   "id": "a3b8c325",
   "metadata": {},
   "outputs": [],
   "source": [
    "a  = Node(1)\n",
    "b = Node(5)"
   ]
  },
  {
   "cell_type": "code",
   "execution_count": 8,
   "id": "5be390c9",
   "metadata": {},
   "outputs": [
    {
     "data": {
      "text/plain": [
       "<__main__.Node at 0x1f346b8f4d0>"
      ]
     },
     "execution_count": 8,
     "metadata": {},
     "output_type": "execute_result"
    }
   ],
   "source": [
    "a"
   ]
  },
  {
   "cell_type": "code",
   "execution_count": 4,
   "id": "a88f2162",
   "metadata": {},
   "outputs": [
    {
     "data": {
      "text/plain": [
       "1"
      ]
     },
     "execution_count": 4,
     "metadata": {},
     "output_type": "execute_result"
    }
   ],
   "source": [
    "a.data"
   ]
  },
  {
   "cell_type": "code",
   "execution_count": 9,
   "id": "10d700fd",
   "metadata": {},
   "outputs": [
    {
     "name": "stdout",
     "output_type": "stream",
     "text": [
      "None\n"
     ]
    }
   ],
   "source": [
    "print(a.next)"
   ]
  },
  {
   "cell_type": "code",
   "execution_count": 10,
   "id": "082212cc",
   "metadata": {},
   "outputs": [
    {
     "data": {
      "text/plain": [
       "5"
      ]
     },
     "execution_count": 10,
     "metadata": {},
     "output_type": "execute_result"
    }
   ],
   "source": [
    "b.data"
   ]
  },
  {
   "cell_type": "code",
   "execution_count": 11,
   "id": "643bf48b",
   "metadata": {},
   "outputs": [
    {
     "name": "stdout",
     "output_type": "stream",
     "text": [
      "None\n"
     ]
    }
   ],
   "source": [
    "print(b.next)"
   ]
  },
  {
   "cell_type": "code",
   "execution_count": 13,
   "id": "8c908842",
   "metadata": {},
   "outputs": [],
   "source": [
    "a.next = b"
   ]
  },
  {
   "cell_type": "code",
   "execution_count": 14,
   "id": "4e7a61cb",
   "metadata": {},
   "outputs": [
    {
     "data": {
      "text/plain": [
       "<__main__.Node at 0x1f346b8f810>"
      ]
     },
     "execution_count": 14,
     "metadata": {},
     "output_type": "execute_result"
    }
   ],
   "source": [
    "a.next"
   ]
  },
  {
   "cell_type": "code",
   "execution_count": null,
   "id": "4e692a68",
   "metadata": {},
   "outputs": [],
   "source": [
    "class Node:\n",
    "    def __init__(self,value):\n",
    "        self.data = value\n",
    "        self.next = None\n",
    "    \n",
    "class LinkedList:\n",
    "    def __init__(self):\n",
    "        self.head = None\n",
    "        self.n = 0  #number of nodes \n",
    "     \n",
    "     \n",
    "    #length of linked list    \n",
    "    def __len__(self):\n",
    "        return self.n\n",
    "    \n",
    "    \n",
    "    #Inserting at head\n",
    "    def insert_head(self,value):\n",
    "        #creating new node\n",
    "        new_node = Node(value)\n",
    "        #creating connection\n",
    "        new_node.next = self.head\n",
    "        #reassigning head\n",
    "        self.head = new_node\n",
    "        #increment n\n",
    "        self.n+=1\n",
    "    \n",
    "    \n",
    "    #Inserting at the tail(end)\n",
    "    def append(self,value):\n",
    "        new_node = Node(value)\n",
    "        \n",
    "        if self.head == None:\n",
    "            self.head = new_node\n",
    "            self.n +=1\n",
    "        \n",
    "        #Now if the list is not empty\n",
    "        curr = self.head\n",
    "        while curr.next != None:\n",
    "            curr = curr.next\n",
    "        #Now we are the last node\n",
    "        curr.next = new_node\n",
    "        self.n +=1\n",
    "        \n",
    "    \n",
    "    #Insert in middle\n",
    "    def insert_middle(self,after,value):\n",
    "        new_node = Node(value)\n",
    "        \n",
    "        curr = self.head\n",
    "        \n",
    "        while curr!=None:\n",
    "            if curr.data == after:\n",
    "                break\n",
    "            curr = curr.next\n",
    "        \n",
    "        #case 1(break) - when item is found\n",
    "        if curr!= None:\n",
    "            new_node.next = curr.next\n",
    "            curr.next = new_node\n",
    "            self.n +=1\n",
    "        #cse 2 when loop continues and item is not found\n",
    "        else:\n",
    "            return \"Item not found\"\n",
    "        \n",
    "        \n",
    "    #Clearing the linked list\n",
    "    def clear(self):\n",
    "            self.head = None\n",
    "            self.n = 0\n",
    "        \n",
    "        \n",
    "    #Deleting head\n",
    "    def delete_head(self):\n",
    "            if self.head == None:\n",
    "                return \"List is empty\"\n",
    "            self.head = self.head.next\n",
    "            self.n -= 1\n",
    "            \n",
    "            \n",
    "    #Pop(deletin tail)\n",
    "    def pop(self):\n",
    "        if self.head == None:\n",
    "            return \"Empty list\"\n",
    "        curr = self.head\n",
    "        if curr.next==None:\n",
    "            self.delete_head()\n",
    "            \n",
    "        #going till second last node\n",
    "        while curr.next.next !=None:\n",
    "            curr= curr.next\n",
    "        #now we are at the second last node\n",
    "        curr.next = None\n",
    "        self.n -= 1\n",
    "        \n",
    "    \n",
    "    #Remove\n",
    "    def remove(self,value):\n",
    "        if self.head is None:\n",
    "            return \"List is empty\"\n",
    "        \n",
    "        if self.head.data == value:\n",
    "            self.delete_head()\n",
    "            return\n",
    "        \n",
    "        curr = self.head\n",
    "        \n",
    "        while curr.next !=None:\n",
    "            if curr.next.data ==value:\n",
    "                break\n",
    "            curr = curr.next\n",
    "        \n",
    "        #Case 1 when item is not found\n",
    "        if curr.next == None:\n",
    "            return \"Item not found\"\n",
    "        else:\n",
    "            curr.next = curr.next.next\n",
    "            self.n -=1\n",
    "            \n",
    "        \n",
    "    #Searching by value\n",
    "    def search(self,item):\n",
    "        curr = self.head\n",
    "        pos = 0\n",
    "        while curr.next!=None:\n",
    "            if curr.data == item:\n",
    "                return pos\n",
    "            curr = curr.next\n",
    "            pos +=1\n",
    "        \n",
    "        return \"Not found\"\n",
    "    \n",
    "    \n",
    "    #Searching by index\n",
    "    def search_index(self,index):\n",
    "        curr = self.head\n",
    "        pos = 0\n",
    "        while curr.next!=None:\n",
    "            if index == pos:\n",
    "                return curr.data\n",
    "            curr = curr.next\n",
    "            pos+=1\n",
    "        \n",
    "        return \"Index not found\"\n",
    "    \n",
    "       \n",
    "    #Traversing\n",
    "    def __str__(self):\n",
    "        curr = self.head\n",
    "        result = ''\n",
    "        while curr !=None:\n",
    "            result += str(curr.data) + ' -> '\n",
    "            curr = curr.next\n",
    "        return result[:-3]\n",
    "    \n",
    "    \n",
    "    def sum_of_odds(self):\n",
    "        temp = self.head\n",
    "        sum = 0\n",
    "        \n",
    "        while temp !=None:\n",
    "            if temp.data %2 != 0:\n",
    "                sum +=temp.data\n",
    "            temp = temp.next\n",
    "        return(sum)\n",
    "    \n",
    "    \n",
    "    def reverse(self):\n",
    "        #\n",
    "                \n",
    "\n",
    "    "
   ]
  },
  {
   "cell_type": "code",
   "execution_count": 89,
   "id": "aaaf7427",
   "metadata": {},
   "outputs": [],
   "source": [
    "L = LinkedList()"
   ]
  },
  {
   "cell_type": "code",
   "execution_count": 90,
   "id": "5d4277bc",
   "metadata": {},
   "outputs": [],
   "source": [
    "L.insert_head(4)\n",
    "L.insert_head(3)\n",
    "L.insert_head(2)\n",
    "L.insert_head(1)"
   ]
  },
  {
   "cell_type": "code",
   "execution_count": 91,
   "id": "54fe9928",
   "metadata": {},
   "outputs": [
    {
     "data": {
      "text/plain": [
       "4"
      ]
     },
     "execution_count": 91,
     "metadata": {},
     "output_type": "execute_result"
    }
   ],
   "source": [
    "len(L)"
   ]
  },
  {
   "cell_type": "code",
   "execution_count": 92,
   "id": "93063632",
   "metadata": {},
   "outputs": [
    {
     "name": "stdout",
     "output_type": "stream",
     "text": [
      "1 -> 2 -> 3 -> 4 \n"
     ]
    }
   ],
   "source": [
    "print(L)"
   ]
  },
  {
   "cell_type": "code",
   "execution_count": 93,
   "id": "52c9b210",
   "metadata": {},
   "outputs": [],
   "source": [
    "L.append(5)"
   ]
  },
  {
   "cell_type": "code",
   "execution_count": 94,
   "id": "fff9abe8",
   "metadata": {},
   "outputs": [
    {
     "name": "stdout",
     "output_type": "stream",
     "text": [
      "1 -> 2 -> 3 -> 4 -> 5 \n"
     ]
    }
   ],
   "source": [
    "print(L)"
   ]
  },
  {
   "cell_type": "code",
   "execution_count": 95,
   "id": "b1965627",
   "metadata": {},
   "outputs": [],
   "source": [
    "L.insert_middle(3,500)"
   ]
  },
  {
   "cell_type": "code",
   "execution_count": 96,
   "id": "8092e165",
   "metadata": {},
   "outputs": [
    {
     "name": "stdout",
     "output_type": "stream",
     "text": [
      "1 -> 2 -> 3 -> 500 -> 4 -> 5 \n"
     ]
    }
   ],
   "source": [
    "print(L)"
   ]
  },
  {
   "cell_type": "code",
   "execution_count": 97,
   "id": "6716d8e9",
   "metadata": {},
   "outputs": [],
   "source": [
    "L.pop()"
   ]
  },
  {
   "cell_type": "code",
   "execution_count": 98,
   "id": "557b9492",
   "metadata": {},
   "outputs": [
    {
     "name": "stdout",
     "output_type": "stream",
     "text": [
      "1 -> 2 -> 3 -> 500 -> 4 \n"
     ]
    }
   ],
   "source": [
    "print(L)"
   ]
  },
  {
   "cell_type": "code",
   "execution_count": 99,
   "id": "59f01f7d",
   "metadata": {},
   "outputs": [],
   "source": [
    "L.remove(500)"
   ]
  },
  {
   "cell_type": "code",
   "execution_count": 100,
   "id": "08c76873",
   "metadata": {},
   "outputs": [
    {
     "name": "stdout",
     "output_type": "stream",
     "text": [
      "1 -> 2 -> 3 -> 4 \n"
     ]
    }
   ],
   "source": [
    "print(L)"
   ]
  },
  {
   "cell_type": "code",
   "execution_count": 101,
   "id": "85576b5d",
   "metadata": {},
   "outputs": [
    {
     "data": {
      "text/plain": [
       "2"
      ]
     },
     "execution_count": 101,
     "metadata": {},
     "output_type": "execute_result"
    }
   ],
   "source": [
    "L.search(3)"
   ]
  },
  {
   "cell_type": "code",
   "execution_count": 102,
   "id": "a101ca3c",
   "metadata": {},
   "outputs": [
    {
     "data": {
      "text/plain": [
       "'Not found'"
      ]
     },
     "execution_count": 102,
     "metadata": {},
     "output_type": "execute_result"
    }
   ],
   "source": [
    "L.search(40)"
   ]
  },
  {
   "cell_type": "code",
   "execution_count": 103,
   "id": "ce2fa46e",
   "metadata": {},
   "outputs": [
    {
     "data": {
      "text/plain": [
       "2"
      ]
     },
     "execution_count": 103,
     "metadata": {},
     "output_type": "execute_result"
    }
   ],
   "source": [
    "L.search_index(1)"
   ]
  },
  {
   "cell_type": "code",
   "execution_count": 104,
   "id": "1c021744",
   "metadata": {},
   "outputs": [
    {
     "data": {
      "text/plain": [
       "'Index not found'"
      ]
     },
     "execution_count": 104,
     "metadata": {},
     "output_type": "execute_result"
    }
   ],
   "source": [
    "L.search_index(30)"
   ]
  },
  {
   "cell_type": "code",
   "execution_count": 106,
   "id": "42b0806e",
   "metadata": {},
   "outputs": [
    {
     "name": "stdout",
     "output_type": "stream",
     "text": [
      "1 -> 2 -> 3 -> 4 \n"
     ]
    }
   ],
   "source": [
    "print(L)"
   ]
  },
  {
   "cell_type": "code",
   "execution_count": 105,
   "id": "98da6fb3",
   "metadata": {},
   "outputs": [
    {
     "data": {
      "text/plain": [
       "4"
      ]
     },
     "execution_count": 105,
     "metadata": {},
     "output_type": "execute_result"
    }
   ],
   "source": [
    "L.sum_of_odds()"
   ]
  },
  {
   "cell_type": "code",
   "execution_count": null,
   "id": "fee3c2af",
   "metadata": {},
   "outputs": [],
   "source": []
  }
 ],
 "metadata": {
  "kernelspec": {
   "display_name": "Python 3",
   "language": "python",
   "name": "python3"
  },
  "language_info": {
   "codemirror_mode": {
    "name": "ipython",
    "version": 3
   },
   "file_extension": ".py",
   "mimetype": "text/x-python",
   "name": "python",
   "nbconvert_exporter": "python",
   "pygments_lexer": "ipython3",
   "version": "3.11.9"
  }
 },
 "nbformat": 4,
 "nbformat_minor": 5
}
