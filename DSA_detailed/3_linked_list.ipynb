{
 "cells": [
  {
   "cell_type": "markdown",
   "id": "650917a2",
   "metadata": {},
   "source": [
    "Creating individual nodes and connecting them manually"
   ]
  },
  {
   "cell_type": "code",
   "execution_count": 1,
   "id": "d95173cd",
   "metadata": {},
   "outputs": [],
   "source": [
    "class Node:\n",
    "    def __init__(self,value):\n",
    "        self.data = value\n",
    "        self.next = None"
   ]
  },
  {
   "cell_type": "code",
   "execution_count": 7,
   "id": "a3b8c325",
   "metadata": {},
   "outputs": [],
   "source": [
    "a  = Node(1)\n",
    "b = Node(5)"
   ]
  },
  {
   "cell_type": "code",
   "execution_count": 8,
   "id": "5be390c9",
   "metadata": {},
   "outputs": [
    {
     "data": {
      "text/plain": [
       "<__main__.Node at 0x1f346b8f4d0>"
      ]
     },
     "execution_count": 8,
     "metadata": {},
     "output_type": "execute_result"
    }
   ],
   "source": [
    "a"
   ]
  },
  {
   "cell_type": "code",
   "execution_count": 4,
   "id": "a88f2162",
   "metadata": {},
   "outputs": [
    {
     "data": {
      "text/plain": [
       "1"
      ]
     },
     "execution_count": 4,
     "metadata": {},
     "output_type": "execute_result"
    }
   ],
   "source": [
    "a.data"
   ]
  },
  {
   "cell_type": "code",
   "execution_count": 9,
   "id": "10d700fd",
   "metadata": {},
   "outputs": [
    {
     "name": "stdout",
     "output_type": "stream",
     "text": [
      "None\n"
     ]
    }
   ],
   "source": [
    "print(a.next)"
   ]
  },
  {
   "cell_type": "code",
   "execution_count": 10,
   "id": "082212cc",
   "metadata": {},
   "outputs": [
    {
     "data": {
      "text/plain": [
       "5"
      ]
     },
     "execution_count": 10,
     "metadata": {},
     "output_type": "execute_result"
    }
   ],
   "source": [
    "b.data"
   ]
  },
  {
   "cell_type": "code",
   "execution_count": 11,
   "id": "643bf48b",
   "metadata": {},
   "outputs": [
    {
     "name": "stdout",
     "output_type": "stream",
     "text": [
      "None\n"
     ]
    }
   ],
   "source": [
    "print(b.next)"
   ]
  },
  {
   "cell_type": "code",
   "execution_count": 13,
   "id": "8c908842",
   "metadata": {},
   "outputs": [],
   "source": [
    "a.next = b"
   ]
  },
  {
   "cell_type": "code",
   "execution_count": 14,
   "id": "4e7a61cb",
   "metadata": {},
   "outputs": [
    {
     "data": {
      "text/plain": [
       "<__main__.Node at 0x1f346b8f810>"
      ]
     },
     "execution_count": 14,
     "metadata": {},
     "output_type": "execute_result"
    }
   ],
   "source": [
    "a.next"
   ]
  },
  {
   "cell_type": "code",
   "execution_count": 147,
   "id": "4e692a68",
   "metadata": {},
   "outputs": [],
   "source": [
    "class Node:\n",
    "    def __init__(self,value):\n",
    "        self.data = value\n",
    "        self.next = None\n",
    "    \n",
    "class LinkedList:\n",
    "    def __init__(self):\n",
    "        self.head = None\n",
    "        self.n = 0  #number of nodes \n",
    "     \n",
    "    #length of linked list    \n",
    "    def __len__(self):\n",
    "        return self.n\n",
    "    \n",
    "    #Inserting at head\n",
    "    def insert_head(self,value):\n",
    "        #creating new node\n",
    "        new_node = Node(value)\n",
    "        #creating connection\n",
    "        new_node.next = self.head\n",
    "        #reassigning head\n",
    "        self.head = new_node\n",
    "        #increment n\n",
    "        self.n+=1\n",
    "    \n",
    "    \n",
    "    #Inserting at the tail(end)\n",
    "    def append(self,value):\n",
    "        new_node = Node(value)\n",
    "        \n",
    "        if self.head == None:\n",
    "            self.head = new_node\n",
    "            self.n +=1\n",
    "        \n",
    "        #Now if the list is not empty\n",
    "        curr = self.head\n",
    "        while curr.next != None:\n",
    "            curr = curr.next\n",
    "        #Now we are the last node\n",
    "        curr.next = new_node\n",
    "        self.n +=1\n",
    "        \n",
    "    \n",
    "    #Insert in middle\n",
    "    def insert_middle(self,after,value):\n",
    "        new_node = Node(value)\n",
    "        \n",
    "        curr = self.head\n",
    "        \n",
    "        while curr!=None:\n",
    "            if curr.data == after:\n",
    "                break\n",
    "            curr = curr.next\n",
    "        \n",
    "        #case 1(break) - when item is found\n",
    "        if curr!= None:\n",
    "            new_node.next = curr.next\n",
    "            curr.next = new_node\n",
    "            self.n +=1\n",
    "        #cse 2 when loop continues and item is not found\n",
    "        else:\n",
    "            return \"Item not found\"\n",
    "        \n",
    "        \n",
    "        #Clearing the linked list\n",
    "        def clear(self):\n",
    "            self.head = None\n",
    "            self.n = 0\n",
    "        \n",
    "        #Deleting head\n",
    "        def delete_head(self):\n",
    "            self.head = self.head.next\n",
    "            \n",
    "            \n",
    "    #Traversing\n",
    "    def __str__(self):\n",
    "        curr = self.head\n",
    "        result = ''\n",
    "        while curr !=None:\n",
    "            result += str(curr.data) + ' -> '\n",
    "            curr = curr.next\n",
    "        return result[:-3]\n",
    "\n",
    "    "
   ]
  },
  {
   "cell_type": "code",
   "execution_count": 148,
   "id": "aaaf7427",
   "metadata": {},
   "outputs": [],
   "source": [
    "L = LinkedList()"
   ]
  },
  {
   "cell_type": "code",
   "execution_count": 149,
   "id": "5d4277bc",
   "metadata": {},
   "outputs": [],
   "source": [
    "L.insert_head(4)\n",
    "L.insert_head(3)\n",
    "L.insert_head(2)\n",
    "L.insert_head(1)"
   ]
  },
  {
   "cell_type": "code",
   "execution_count": 150,
   "id": "54fe9928",
   "metadata": {},
   "outputs": [
    {
     "data": {
      "text/plain": [
       "4"
      ]
     },
     "execution_count": 150,
     "metadata": {},
     "output_type": "execute_result"
    }
   ],
   "source": [
    "len(L)"
   ]
  },
  {
   "cell_type": "code",
   "execution_count": 151,
   "id": "93063632",
   "metadata": {},
   "outputs": [
    {
     "name": "stdout",
     "output_type": "stream",
     "text": [
      "1 -> 2 -> 3 -> 4 \n"
     ]
    }
   ],
   "source": [
    "print(L)"
   ]
  },
  {
   "cell_type": "code",
   "execution_count": 152,
   "id": "52c9b210",
   "metadata": {},
   "outputs": [],
   "source": [
    "L.append(5)"
   ]
  },
  {
   "cell_type": "code",
   "execution_count": 153,
   "id": "fff9abe8",
   "metadata": {},
   "outputs": [
    {
     "name": "stdout",
     "output_type": "stream",
     "text": [
      "1 -> 2 -> 3 -> 4 -> 5 \n"
     ]
    }
   ],
   "source": [
    "print(L)"
   ]
  },
  {
   "cell_type": "code",
   "execution_count": 154,
   "id": "b1965627",
   "metadata": {},
   "outputs": [],
   "source": [
    "L.insert_middle(3,500)"
   ]
  },
  {
   "cell_type": "code",
   "execution_count": 155,
   "id": "8092e165",
   "metadata": {},
   "outputs": [
    {
     "name": "stdout",
     "output_type": "stream",
     "text": [
      "1 -> 2 -> 3 -> 500 -> 4 -> 5 \n"
     ]
    }
   ],
   "source": [
    "print(L)"
   ]
  },
  {
   "cell_type": "code",
   "execution_count": null,
   "id": "6716d8e9",
   "metadata": {},
   "outputs": [],
   "source": []
  }
 ],
 "metadata": {
  "kernelspec": {
   "display_name": "Python 3",
   "language": "python",
   "name": "python3"
  },
  "language_info": {
   "codemirror_mode": {
    "name": "ipython",
    "version": 3
   },
   "file_extension": ".py",
   "mimetype": "text/x-python",
   "name": "python",
   "nbconvert_exporter": "python",
   "pygments_lexer": "ipython3",
   "version": "3.11.9"
  }
 },
 "nbformat": 4,
 "nbformat_minor": 5
}
