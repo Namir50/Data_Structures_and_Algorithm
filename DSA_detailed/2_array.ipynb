{
 "cells": [
  {
   "cell_type": "markdown",
   "id": "1894d23e",
   "metadata": {},
   "source": [
    "We are gonna create a C type array"
   ]
  },
  {
   "cell_type": "code",
   "execution_count": 1,
   "id": "a16a3d52",
   "metadata": {},
   "outputs": [],
   "source": [
    "import ctypes"
   ]
  },
  {
   "cell_type": "code",
   "execution_count": 372,
   "id": "095e3667",
   "metadata": {},
   "outputs": [],
   "source": [
    "class MeraList:\n",
    "    def __init__(self):\n",
    "        self.size = 1 #Initial size of array\n",
    "        self.n = 0  #Number of elements\n",
    "        \n",
    "        self.A = self.__make_array(self.size)\n",
    "        \n",
    "    def __make_array(self, capacity):\n",
    "        return (capacity*ctypes.py_object)()\n",
    "    \n",
    "    def __len__(self):\n",
    "        return self.n\n",
    "    \n",
    "    def append(self,item):\n",
    "        if self.n == self.size:\n",
    "            self.__resize(self.size * 2)  \n",
    "        \n",
    "        self.A[self.n] = item\n",
    "        self.n = self.n + 1  \n",
    "    \n",
    "    def __resize(self, new_capacity):\n",
    "        B = self.__make_array(new_capacity)\n",
    "        self.size = new_capacity\n",
    "        \n",
    "        for i in range(self.n):\n",
    "            B[i] = self.A[i]\n",
    "        \n",
    "        self.A = B\n",
    "        \n",
    "    #Indexing\n",
    "    def __getitem__(self,index):\n",
    "        if 0 <= index <=self.n:\n",
    "            return self.A[index]\n",
    "        else:\n",
    "            return 'Indexerror'\n",
    "        \n",
    "    #Popping\n",
    "    def pop(self):\n",
    "        if self.n == 0:\n",
    "            return 'List is Empty'\n",
    "        popped_item = self.A[self.n - 1]\n",
    "        self.n -= 1\n",
    "        return popped_item\n",
    "    \n",
    "    #clearing list\n",
    "    def clear(self):\n",
    "        self.n = 0\n",
    "        self.size = 1\n",
    "        \n",
    "    #finding\n",
    "    def find(self,item):\n",
    "        for i in range(self.n):\n",
    "            if self.A[i] == item:\n",
    "                return i\n",
    "\n",
    "        return \"ValueError\"\n",
    "    \n",
    "    #inserting\n",
    "    def insert(self,pos,item):\n",
    "        if self.n == self.size:\n",
    "            self.__resize(self.size*2)\n",
    "            \n",
    "        for i in range(self.n,pos,-1):\n",
    "            self.A[i] = self.A[i-1]\n",
    "            \n",
    "        self.A[pos] = item\n",
    "        self.n = self.n+1\n",
    "            \n",
    "    \n",
    "    #printing array\n",
    "    def print_result(self):\n",
    "        result = ''\n",
    "        for i in range(self.n):\n",
    "            result += str(self.A[i]) + ', '\n",
    "        result = result[:-2]\n",
    "        \n",
    "        return result"
   ]
  },
  {
   "cell_type": "code",
   "execution_count": 373,
   "id": "6728d9ce",
   "metadata": {},
   "outputs": [],
   "source": [
    "L = MeraList()\n"
   ]
  },
  {
   "cell_type": "code",
   "execution_count": 374,
   "id": "8fc3113e",
   "metadata": {},
   "outputs": [
    {
     "name": "stdout",
     "output_type": "stream",
     "text": [
      "<__main__.MeraList object at 0x00000268BF8F7010>\n"
     ]
    }
   ],
   "source": [
    "print(L)"
   ]
  },
  {
   "cell_type": "markdown",
   "id": "95ae0774",
   "metadata": {},
   "source": [
    "Finding the length of array"
   ]
  },
  {
   "cell_type": "code",
   "execution_count": 375,
   "id": "33f338ea",
   "metadata": {},
   "outputs": [
    {
     "data": {
      "text/plain": [
       "0"
      ]
     },
     "execution_count": 375,
     "metadata": {},
     "output_type": "execute_result"
    }
   ],
   "source": [
    "len(L)"
   ]
  },
  {
   "cell_type": "code",
   "execution_count": 376,
   "id": "2d377782",
   "metadata": {},
   "outputs": [],
   "source": [
    "L.append('Hello')"
   ]
  },
  {
   "cell_type": "code",
   "execution_count": 377,
   "id": "80e80ad3",
   "metadata": {},
   "outputs": [
    {
     "data": {
      "text/plain": [
       "1"
      ]
     },
     "execution_count": 377,
     "metadata": {},
     "output_type": "execute_result"
    }
   ],
   "source": [
    "len(L)"
   ]
  },
  {
   "cell_type": "code",
   "execution_count": 378,
   "id": "5df80a51",
   "metadata": {},
   "outputs": [
    {
     "data": {
      "text/plain": [
       "'Hello'"
      ]
     },
     "execution_count": 378,
     "metadata": {},
     "output_type": "execute_result"
    }
   ],
   "source": [
    "L.print_result()"
   ]
  },
  {
   "cell_type": "code",
   "execution_count": 379,
   "id": "a12bc4d5",
   "metadata": {},
   "outputs": [],
   "source": [
    "L.append(100)"
   ]
  },
  {
   "cell_type": "code",
   "execution_count": 380,
   "id": "c10a1f5d",
   "metadata": {},
   "outputs": [
    {
     "data": {
      "text/plain": [
       "'Hello, 100'"
      ]
     },
     "execution_count": 380,
     "metadata": {},
     "output_type": "execute_result"
    }
   ],
   "source": [
    "L.print_result()"
   ]
  },
  {
   "cell_type": "code",
   "execution_count": 381,
   "id": "49f75c33",
   "metadata": {},
   "outputs": [],
   "source": [
    "L.append('Bye')\n",
    "L.append('True')\n",
    "L.append('Yo')"
   ]
  },
  {
   "cell_type": "code",
   "execution_count": 382,
   "id": "a8ca9fd8",
   "metadata": {},
   "outputs": [
    {
     "data": {
      "text/plain": [
       "100"
      ]
     },
     "execution_count": 382,
     "metadata": {},
     "output_type": "execute_result"
    }
   ],
   "source": [
    "L[1]"
   ]
  },
  {
   "cell_type": "code",
   "execution_count": 383,
   "id": "e27ce91d",
   "metadata": {},
   "outputs": [
    {
     "data": {
      "text/plain": [
       "'Hello'"
      ]
     },
     "execution_count": 383,
     "metadata": {},
     "output_type": "execute_result"
    }
   ],
   "source": [
    "L[0]"
   ]
  },
  {
   "cell_type": "code",
   "execution_count": 384,
   "id": "c4539544",
   "metadata": {},
   "outputs": [
    {
     "data": {
      "text/plain": [
       "'Yo'"
      ]
     },
     "execution_count": 384,
     "metadata": {},
     "output_type": "execute_result"
    }
   ],
   "source": [
    "L[4]"
   ]
  },
  {
   "cell_type": "code",
   "execution_count": 385,
   "id": "1124fcc3",
   "metadata": {},
   "outputs": [
    {
     "data": {
      "text/plain": [
       "'Indexerror'"
      ]
     },
     "execution_count": 385,
     "metadata": {},
     "output_type": "execute_result"
    }
   ],
   "source": [
    "L[7]"
   ]
  },
  {
   "cell_type": "code",
   "execution_count": 386,
   "id": "e98523fe",
   "metadata": {},
   "outputs": [
    {
     "data": {
      "text/plain": [
       "'Yo'"
      ]
     },
     "execution_count": 386,
     "metadata": {},
     "output_type": "execute_result"
    }
   ],
   "source": [
    "L.pop()"
   ]
  },
  {
   "cell_type": "code",
   "execution_count": 387,
   "id": "c15915f9",
   "metadata": {},
   "outputs": [
    {
     "data": {
      "text/plain": [
       "'Hello, 100, Bye, True'"
      ]
     },
     "execution_count": 387,
     "metadata": {},
     "output_type": "execute_result"
    }
   ],
   "source": [
    "L.print_result()"
   ]
  },
  {
   "cell_type": "code",
   "execution_count": 388,
   "id": "9dbd98bf",
   "metadata": {},
   "outputs": [
    {
     "data": {
      "text/plain": [
       "1"
      ]
     },
     "execution_count": 388,
     "metadata": {},
     "output_type": "execute_result"
    }
   ],
   "source": [
    "L.find(100)"
   ]
  },
  {
   "cell_type": "code",
   "execution_count": 389,
   "id": "cb55b4ca",
   "metadata": {},
   "outputs": [],
   "source": [
    "L.insert(0,'wow')"
   ]
  },
  {
   "cell_type": "code",
   "execution_count": 390,
   "id": "9f71c43b",
   "metadata": {},
   "outputs": [
    {
     "data": {
      "text/plain": [
       "'wow, Hello, 100, Bye, True'"
      ]
     },
     "execution_count": 390,
     "metadata": {},
     "output_type": "execute_result"
    }
   ],
   "source": [
    "L.print_result()"
   ]
  },
  {
   "cell_type": "code",
   "execution_count": null,
   "id": "b58f7d30",
   "metadata": {},
   "outputs": [],
   "source": []
  }
 ],
 "metadata": {
  "kernelspec": {
   "display_name": "Python 3",
   "language": "python",
   "name": "python3"
  },
  "language_info": {
   "codemirror_mode": {
    "name": "ipython",
    "version": 3
   },
   "file_extension": ".py",
   "mimetype": "text/x-python",
   "name": "python",
   "nbconvert_exporter": "python",
   "pygments_lexer": "ipython3",
   "version": "3.11.9"
  }
 },
 "nbformat": 4,
 "nbformat_minor": 5
}
