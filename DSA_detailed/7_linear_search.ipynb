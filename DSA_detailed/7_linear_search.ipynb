{
 "cells": [
  {
   "cell_type": "markdown",
   "id": "7a96f9b9",
   "metadata": {},
   "source": [
    "Linear searching is based on brute force<br>\n",
    "Linear search can also work well with unsorted array"
   ]
  },
  {
   "cell_type": "code",
   "execution_count": 1,
   "id": "b2e6d502",
   "metadata": {},
   "outputs": [],
   "source": [
    "def linear_search(array,item):\n",
    "    for i in range(len(array)):\n",
    "        if array[i] == item:\n",
    "            return i\n",
    "    return 'not found'"
   ]
  },
  {
   "cell_type": "code",
   "execution_count": 2,
   "id": "397c2562",
   "metadata": {},
   "outputs": [
    {
     "data": {
      "text/plain": [
       "2"
      ]
     },
     "execution_count": 2,
     "metadata": {},
     "output_type": "execute_result"
    }
   ],
   "source": [
    "array = [20,40,3,5,60]\n",
    "linear_search(array,3)"
   ]
  }
 ],
 "metadata": {
  "kernelspec": {
   "display_name": "Python 3",
   "language": "python",
   "name": "python3"
  },
  "language_info": {
   "codemirror_mode": {
    "name": "ipython",
    "version": 3
   },
   "file_extension": ".py",
   "mimetype": "text/x-python",
   "name": "python",
   "nbconvert_exporter": "python",
   "pygments_lexer": "ipython3",
   "version": "3.11.9"
  }
 },
 "nbformat": 4,
 "nbformat_minor": 5
}
