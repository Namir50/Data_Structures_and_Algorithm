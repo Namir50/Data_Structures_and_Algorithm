{
 "cells": [
  {
   "cell_type": "markdown",
   "id": "61ca80ba",
   "metadata": {},
   "source": [
    "Hashing involves defining a has function to store the values in the indexes of array"
   ]
  },
  {
   "cell_type": "markdown",
   "id": "b33b8584",
   "metadata": {},
   "source": [
    "Handling collisions in hashing\n",
    "1. Closed addressing: a.Chaining\n",
    "2. Open addressing: a.Linear probing  b.Quadratic probing"
   ]
  },
  {
   "cell_type": "markdown",
   "id": "16e5a537",
   "metadata": {},
   "source": [
    "Chaining<br>\n",
    "When there is value whose calculated modulus is equal to the modulus of the value of the current node, then the current node is chained to the value and a linked list is formed with that current node and when the modulus of new values is same as the mpdulus of the value in the current node then nodes are linked to that specific node and this continues. But this increases the load factor and searching becomes 0(n) when we try to find the value which is linked to a specific node and hence the time complexity of this approach is not O(1)    "
   ]
  },
  {
   "cell_type": "markdown",
   "id": "362cbbf2",
   "metadata": {},
   "source": [
    "Rehashing<br>\n",
    "To solve the problem of chaining, we perform rehashing<br>\n",
    "When the load factor increases and the searching becomes O(n) due to creation of linked list on a specific node, we increase the size of array, and also increase the value in the hash function. Example: Array size 5, so has function should have 5. Array size 8, so hash function should have 8"
   ]
  },
  {
   "cell_type": "markdown",
   "id": "551bea30",
   "metadata": {},
   "source": [
    "Linear Probing<br>\n",
    "In this when the new value's index is found using hash function, and if the index is currently filled by a specific value, so it checks if there is any empty space in the next index, if not it continues checking ahead until the size of array. When doing linear probing, we must ensure the array size should be more than the values<br>\n",
    "Formula: g(i) = [h(i) + k(i)] % size, where h(i) = i % size<br>\n",
    "If the index is filled, then we will increase the k(i) by 1 or 1<br>\n",
    "The same formula is for searching also<br>\n",
    "The major drawback of linear probing is, when working with large array, the functions inserts values in clusters leaving huge memory space between clusters"
   ]
  },
  {
   "cell_type": "markdown",
   "id": "13b02ee4",
   "metadata": {},
   "source": [
    "Quadratic probing<br>\n",
    "This addresses the major drawback of linear probing<br>\n",
    "Formula: g(i) = [h(i)+ k(i)^2] % size"
   ]
  },
  {
   "cell_type": "markdown",
   "id": "8ae2e8a4",
   "metadata": {},
   "source": [
    "<h3>Linear Probing<h3>"
   ]
  },
  {
   "cell_type": "code",
   "execution_count": 180,
   "id": "c25aaa44",
   "metadata": {},
   "outputs": [],
   "source": [
    "class Dictionary:\n",
    "    def __init__(self,size):\n",
    "        self.size = size\n",
    "        self.slots = [None] * size  #key array\n",
    "        self.data = [None] * size  #value array\n",
    "        \n",
    "    def put(self,key,value):\n",
    "        hash_value = self.hash_function(key)\n",
    "        \n",
    "        if self.slots[hash_value] == None:\n",
    "            self.slots[hash_value] = key\n",
    "            self.data[hash_value] = value \n",
    "        \n",
    "        else:\n",
    "            if self.slots[hash_value] == key:  #if same key already exists, updating the value\n",
    "                self.data[hash_value] = value\n",
    "            else:  #Doing linear probing\n",
    "                new_hash_value = self.re_hash_function(hash_value)\n",
    "                \n",
    "                while self.slots[new_hash_value] != None and self.slots[new_hash_value] != key:\n",
    "                    new_hash_value = self.re_hash_function(new_hash_value)\n",
    "                    \n",
    "                if self.slots[new_hash_value] == None:\n",
    "                    self.slots[new_hash_value] = key\n",
    "                    self.data[new_hash_value] = value\n",
    "                else:\n",
    "                    self.data[new_hash_value] = value\n",
    "    \n",
    "    \n",
    "    #optional magic method\n",
    "    def __setitem__(self,key,value):\n",
    "        self.put(key,value)\n",
    "        \n",
    "        \n",
    "    #optional magic method\n",
    "    def __getitem__(self,key):\n",
    "       return self.get(key)\n",
    "    \n",
    "    \n",
    "    def get(self,key):\n",
    "        start_slot = self.hash_function(key)\n",
    "        current_position = start_slot\n",
    "        \n",
    "        while self.slots[current_position] != None:\n",
    "            if self.slots[current_position] == key:\n",
    "                return self.data[current_position]\n",
    "            \n",
    "            current_position = self.re_hash_function(current_position)\n",
    "            \n",
    "            if current_position == start_slot:\n",
    "                return 'Not found'\n",
    "        \n",
    "        return 'Not found' #when None is found as the while loop says\n",
    "                    \n",
    "    \n",
    "    def __str__(self):\n",
    "        x = []\n",
    "        for i in range(len(self.slots)):\n",
    "            if self.slots[i] != None:\n",
    "               x.append(f\"{self.slots[i]} : {self.data[i]}\")\n",
    "        return ', '.join(x)\n",
    "    \n",
    "            \n",
    "    def hash_function(self,key):\n",
    "        return abs(hash(key)) % self.size   #abs converts negative to positive and keeps positive as positive,\n",
    "        #hash() is a builtin function in python that returns a hash value for the given \n",
    "        \n",
    "    def re_hash_function(self,old_hash):\n",
    "        return (old_hash + 1) % self.size\n",
    "        "
   ]
  },
  {
   "cell_type": "code",
   "execution_count": 181,
   "id": "3b56f687",
   "metadata": {},
   "outputs": [],
   "source": [
    "D1 = Dictionary(4)"
   ]
  },
  {
   "cell_type": "code",
   "execution_count": 182,
   "id": "ad65732d",
   "metadata": {},
   "outputs": [
    {
     "data": {
      "text/plain": [
       "[None, None, None, None]"
      ]
     },
     "execution_count": 182,
     "metadata": {},
     "output_type": "execute_result"
    }
   ],
   "source": [
    "D1.slots"
   ]
  },
  {
   "cell_type": "code",
   "execution_count": 183,
   "id": "fa4fe98c",
   "metadata": {},
   "outputs": [
    {
     "data": {
      "text/plain": [
       "[None, None, None, None]"
      ]
     },
     "execution_count": 183,
     "metadata": {},
     "output_type": "execute_result"
    }
   ],
   "source": [
    "D1.data"
   ]
  },
  {
   "cell_type": "code",
   "execution_count": 184,
   "id": "4817bf45",
   "metadata": {},
   "outputs": [],
   "source": [
    "D1.put('python',23)"
   ]
  },
  {
   "cell_type": "code",
   "execution_count": 185,
   "id": "de796d26",
   "metadata": {},
   "outputs": [
    {
     "name": "stdout",
     "output_type": "stream",
     "text": [
      "[None, None, 'python', None]\n",
      "[None, None, 23, None]\n"
     ]
    }
   ],
   "source": [
    "print(D1.slots)\n",
    "print(D1.data)"
   ]
  },
  {
   "cell_type": "code",
   "execution_count": 186,
   "id": "881a01aa",
   "metadata": {},
   "outputs": [],
   "source": [
    "D1.put('Java',31)\n",
    "D1.put('C',34)"
   ]
  },
  {
   "cell_type": "code",
   "execution_count": 187,
   "id": "c428aba0",
   "metadata": {},
   "outputs": [
    {
     "name": "stdout",
     "output_type": "stream",
     "text": [
      "[None, 'C', 'python', 'Java']\n",
      "[None, 34, 23, 31]\n"
     ]
    }
   ],
   "source": [
    "print(D1.slots)\n",
    "print(D1.data)"
   ]
  },
  {
   "cell_type": "code",
   "execution_count": 188,
   "id": "73d7a5c7",
   "metadata": {},
   "outputs": [],
   "source": [
    "D1.put('HTML',44)"
   ]
  },
  {
   "cell_type": "code",
   "execution_count": 189,
   "id": "b57e2185",
   "metadata": {},
   "outputs": [
    {
     "name": "stdout",
     "output_type": "stream",
     "text": [
      "['HTML', 'C', 'python', 'Java']\n",
      "[44, 34, 23, 31]\n"
     ]
    }
   ],
   "source": [
    "print(D1.slots)\n",
    "print(D1.data)"
   ]
  },
  {
   "cell_type": "code",
   "execution_count": 190,
   "id": "6c0ee662",
   "metadata": {},
   "outputs": [],
   "source": [
    "D1.put('HTML',90)"
   ]
  },
  {
   "cell_type": "code",
   "execution_count": 191,
   "id": "3fae30a4",
   "metadata": {},
   "outputs": [
    {
     "name": "stdout",
     "output_type": "stream",
     "text": [
      "['HTML', 'C', 'python', 'Java']\n",
      "[90, 34, 23, 31]\n"
     ]
    }
   ],
   "source": [
    "print(D1.slots)\n",
    "print(D1.data)"
   ]
  },
  {
   "cell_type": "code",
   "execution_count": 192,
   "id": "a503e887",
   "metadata": {},
   "outputs": [],
   "source": [
    "D1['HTML'] = 80"
   ]
  },
  {
   "cell_type": "code",
   "execution_count": 193,
   "id": "c4471a99",
   "metadata": {},
   "outputs": [
    {
     "name": "stdout",
     "output_type": "stream",
     "text": [
      "['HTML', 'C', 'python', 'Java']\n",
      "[80, 34, 23, 31]\n"
     ]
    }
   ],
   "source": [
    "print(D1.slots)\n",
    "print(D1.data)"
   ]
  },
  {
   "cell_type": "code",
   "execution_count": 194,
   "id": "56694695",
   "metadata": {},
   "outputs": [
    {
     "data": {
      "text/plain": [
       "80"
      ]
     },
     "execution_count": 194,
     "metadata": {},
     "output_type": "execute_result"
    }
   ],
   "source": [
    "D1.get('HTML')"
   ]
  },
  {
   "cell_type": "code",
   "execution_count": 195,
   "id": "8ae27b22",
   "metadata": {},
   "outputs": [
    {
     "data": {
      "text/plain": [
       "23"
      ]
     },
     "execution_count": 195,
     "metadata": {},
     "output_type": "execute_result"
    }
   ],
   "source": [
    "D1['python']"
   ]
  },
  {
   "cell_type": "code",
   "execution_count": 196,
   "id": "30fce9cf",
   "metadata": {},
   "outputs": [
    {
     "name": "stdout",
     "output_type": "stream",
     "text": [
      "HTML : 80, C : 34, python : 23, Java : 31\n"
     ]
    }
   ],
   "source": [
    "print(D1)"
   ]
  },
  {
   "cell_type": "code",
   "execution_count": null,
   "id": "1ad4fcbc",
   "metadata": {},
   "outputs": [],
   "source": []
  },
  {
   "cell_type": "code",
   "execution_count": null,
   "id": "d81b9523",
   "metadata": {},
   "outputs": [],
   "source": []
  }
 ],
 "metadata": {
  "kernelspec": {
   "display_name": "Python 3",
   "language": "python",
   "name": "python3"
  },
  "language_info": {
   "codemirror_mode": {
    "name": "ipython",
    "version": 3
   },
   "file_extension": ".py",
   "mimetype": "text/x-python",
   "name": "python",
   "nbconvert_exporter": "python",
   "pygments_lexer": "ipython3",
   "version": "3.11.9"
  }
 },
 "nbformat": 4,
 "nbformat_minor": 5
}
