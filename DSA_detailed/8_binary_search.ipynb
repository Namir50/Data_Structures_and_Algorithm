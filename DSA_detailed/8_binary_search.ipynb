{
 "cells": [
  {
   "cell_type": "markdown",
   "id": "29b25af3",
   "metadata": {},
   "source": [
    "Binary search works on sorted array"
   ]
  },
  {
   "cell_type": "code",
   "execution_count": 16,
   "id": "bba9248d",
   "metadata": {},
   "outputs": [],
   "source": [
    "def binary_search(arr,item):\n",
    "    arr = sorted(arr)\n",
    "    low = 0\n",
    "    high = len(arr) - 1\n",
    "    \n",
    "    while low<=high:\n",
    "        mid = (low + high) // 2\n",
    "        guess = arr[mid]\n",
    "        \n",
    "        if guess == item:\n",
    "            return f\"Index: {mid}\"\n",
    "        elif item>guess:  #if the item is greater than guess(mid) which means the element would be on the higher side of sortted array\n",
    "            low = mid+1  #so we go higher by incrementing the mid(hence we will be finding the element changed low and high)\n",
    "        else:   #if the item is smaller than guess(mid) which means the element would but on the lower side of the sorted array\n",
    "            high= mid-1  #so we go lower by deccrementing mid(hence we will be finding the element between  lower and changed high)\n",
    "        \n",
    "    return 'Not found'\n",
    "    "
   ]
  },
  {
   "cell_type": "code",
   "execution_count": 15,
   "id": "448e4033",
   "metadata": {},
   "outputs": [
    {
     "data": {
      "text/plain": [
       "'Index: 5'"
      ]
     },
     "execution_count": 15,
     "metadata": {},
     "output_type": "execute_result"
    }
   ],
   "source": [
    "arr = [1,2,3,4,5,6,7]\n",
    "binary_search(arr,6)"
   ]
  },
  {
   "cell_type": "code",
   "execution_count": 17,
   "id": "9395f7dd",
   "metadata": {},
   "outputs": [
    {
     "data": {
      "text/plain": [
       "'Not found'"
      ]
     },
     "execution_count": 17,
     "metadata": {},
     "output_type": "execute_result"
    }
   ],
   "source": [
    "binary_search(arr,20)"
   ]
  }
 ],
 "metadata": {
  "kernelspec": {
   "display_name": "Python 3",
   "language": "python",
   "name": "python3"
  },
  "language_info": {
   "codemirror_mode": {
    "name": "ipython",
    "version": 3
   },
   "file_extension": ".py",
   "mimetype": "text/x-python",
   "name": "python",
   "nbconvert_exporter": "python",
   "pygments_lexer": "ipython3",
   "version": "3.11.9"
  }
 },
 "nbformat": 4,
 "nbformat_minor": 5
}
